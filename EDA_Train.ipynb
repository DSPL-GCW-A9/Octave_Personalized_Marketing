{
  "cells": [
    {
      "cell_type": "markdown",
      "metadata": {
        "id": "sJaifKfrGaJ8"
      },
      "source": [
        "**Train CSV**"
      ]
    },
    {
      "cell_type": "markdown",
      "metadata": {
        "id": "wZdS9MwMGZ-R"
      },
      "source": [
        "**Data Exploration**"
      ]
    },
    {
      "cell_type": "code",
      "execution_count": null,
      "metadata": {
        "id": "EEYxUNmG_HH8"
      },
      "outputs": [],
      "source": [
        "#importing necessary libraries\n",
        "import pandas as pd\n",
        "import plotly.express as px\n",
        "import seaborn as sns\n",
        "import matplotlib.pyplot as plt\n",
        "import numpy as np"
      ]
    },
    {
      "cell_type": "code",
      "execution_count": null,
      "metadata": {
        "id": "z05gLeYJ_vHq"
      },
      "outputs": [],
      "source": [
        "#read the csv file\n",
        "train = pd.read_csv(\"/content/traincsv.csv\")\n",
        "train"
      ]
    },
    {
      "cell_type": "code",
      "execution_count": null,
      "metadata": {
        "id": "0IexqRzwGqi_"
      },
      "outputs": [],
      "source": [
        "train.info()"
      ]
    },
    {
      "cell_type": "code",
      "execution_count": null,
      "metadata": {
        "id": "9uyEBX_eG-Pf"
      },
      "outputs": [],
      "source": [
        "train.describe(include='all')"
      ]
    },
    {
      "cell_type": "code",
      "execution_count": null,
      "metadata": {
        "id": "2njY9INwHDAC"
      },
      "outputs": [],
      "source": [
        "train.shape"
      ]
    },
    {
      "cell_type": "code",
      "execution_count": null,
      "metadata": {
        "id": "bUvXRtCjH2yu"
      },
      "outputs": [],
      "source": [
        "unique_inputs_train = train.apply(pd.Series.unique)\n",
        "print(unique_inputs_train)"
      ]
    },
    {
      "cell_type": "code",
      "execution_count": null,
      "metadata": {
        "id": "6tUGRRPwKXu1"
      },
      "outputs": [],
      "source": [
        "train.duplicated().sum()"
      ]
    },
    {
      "cell_type": "code",
      "execution_count": null,
      "metadata": {
        "id": "zloNEXyiKeTF"
      },
      "outputs": [],
      "source": [
        "train.isnull().sum()"
      ]
    },
    {
      "cell_type": "code",
      "execution_count": null,
      "metadata": {
        "id": "Z_ZRXngf_kYj"
      },
      "outputs": [],
      "source": [
        "#convert the strings to numeric value\n",
        "train['luxury_sales'] = pd.to_numeric(train['luxury_sales'], errors='coerce').astype(float)\n",
        "train['fresh_sales'] = pd.to_numeric(train['fresh_sales'], errors='coerce').astype(float)\n",
        "train['dry_sales'] = pd.to_numeric(train['dry_sales'], errors='coerce').astype(float)"
      ]
    },
    {
      "cell_type": "markdown",
      "metadata": {
        "id": "MSQpHhBFBVus"
      },
      "source": [
        "UNIVARIATE ANALYSIS"
      ]
    },
    {
      "cell_type": "markdown",
      "metadata": {
        "id": "pRTk-2_HCVW6"
      },
      "source": [
        "Histograms"
      ]
    },
    {
      "cell_type": "code",
      "execution_count": null,
      "metadata": {
        "id": "fZvh8G8VBVG1"
      },
      "outputs": [],
      "source": [
        "#histogram of fresh sales\n",
        "fig = px.histogram(train, x='fresh_sales', nbins=30, title=f\"Distribution of 'fresh_sales'\")\n",
        "fig.show()"
      ]
    },
    {
      "cell_type": "code",
      "execution_count": null,
      "metadata": {
        "id": "xs3B-4FvCYpv"
      },
      "outputs": [],
      "source": [
        "#histogram of luxury sales\n",
        "fig = px.histogram(train, x='luxury_sales', nbins=30, title=f\"Distribution of 'Luxury Sales'\")\n",
        "fig.show()"
      ]
    },
    {
      "cell_type": "code",
      "execution_count": null,
      "metadata": {
        "id": "ePxwBEBwDFSJ"
      },
      "outputs": [],
      "source": [
        "#histogram of dry sales\n",
        "fig = px.histogram(train, x='dry_sales', nbins=30, title=f\"Distribution of 'Dry Sales'\")\n",
        "fig.show()"
      ]
    },
    {
      "cell_type": "markdown",
      "metadata": {
        "id": "PaK-W5yMD1wY"
      },
      "source": [
        "Box Plots"
      ]
    },
    {
      "cell_type": "code",
      "execution_count": null,
      "metadata": {
        "id": "CRMOlXVYD3nS"
      },
      "outputs": [],
      "source": [
        "#Box plots of dry sales\n",
        "fig1 = px.box(train, y=\"dry_sales\", title=\"Box Plot of Dry Sales\")\n",
        "fig1.show()"
      ]
    },
    {
      "cell_type": "code",
      "execution_count": null,
      "metadata": {
        "id": "T3xpJXIEFP2a"
      },
      "outputs": [],
      "source": [
        "#Box plots of luxury sales\n",
        "fig2 = px.box(train, y=\"luxury_sales\", title=\"Box Plot of Luxury Sales\")\n",
        "fig2.show()"
      ]
    },
    {
      "cell_type": "code",
      "execution_count": null,
      "metadata": {
        "id": "W13Do-zhFZxG"
      },
      "outputs": [],
      "source": [
        "#Box plots of fresh sales\n",
        "fig3 = px.box(train, y=\"fresh_sales\", title=\"Box Plot of Fresh Sales\")\n",
        "fig3.show()"
      ]
    },
    {
      "cell_type": "markdown",
      "metadata": {
        "id": "hDdSJ-JXFfg6"
      },
      "source": [
        "MULTIVARIATE ANALYSIS"
      ]
    },
    {
      "cell_type": "code",
      "execution_count": null,
      "metadata": {
        "collapsed": true,
        "id": "wcspI2im_rhX"
      },
      "outputs": [],
      "source": [
        "#Correlation Analysis\n",
        "corr_matrix = train[['luxury_sales', 'fresh_sales', 'dry_sales']].corr()\n",
        "fig = px.imshow(corr_matrix, text_auto=True, color_continuous_scale=px.colors.sequential.Viridis,\n",
        "                title=\"Correlation Heatmap\")\n",
        "fig.show()"
      ]
    },
    {
      "cell_type": "code",
      "execution_count": null,
      "metadata": {
        "id": "kuW7BAQ5_13-"
      },
      "outputs": [],
      "source": [
        "#Sales by City\n",
        "city_sales = train.groupby('outlet_city')[['luxury_sales', 'fresh_sales', 'dry_sales']].sum().reset_index()\n",
        "fig = px.bar(city_sales, x='outlet_city', y=['luxury_sales', 'fresh_sales', 'dry_sales'],\n",
        "             title=\"Sales by City\", barmode='group')\n",
        "fig.show()"
      ]
    }
  ],
  "metadata": {
    "colab": {
      "provenance": []
    },
    "kernelspec": {
      "display_name": "Python 3",
      "name": "python3"
    },
    "language_info": {
      "name": "python"
    }
  },
  "nbformat": 4,
  "nbformat_minor": 0
}